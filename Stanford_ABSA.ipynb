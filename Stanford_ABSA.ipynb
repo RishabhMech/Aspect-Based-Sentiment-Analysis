{
 "cells": [
  {
   "cell_type": "code",
   "execution_count": 1,
   "metadata": {},
   "outputs": [
    {
     "name": "stdout",
     "output_type": "stream",
     "text": [
      "('64bit', 'WindowsPE')\n",
      "Requirement already satisfied: jupyternotify in c:\\programdata\\anaconda3\\lib\\site-packages (0.1.15)\n",
      "Requirement already satisfied: jupyter in c:\\programdata\\anaconda3\\lib\\site-packages (from jupyternotify) (1.0.0)\n",
      "Requirement already satisfied: ipython in c:\\programdata\\anaconda3\\lib\\site-packages (from jupyternotify) (7.19.0)\n",
      "Requirement already satisfied: qtconsole in c:\\programdata\\anaconda3\\lib\\site-packages (from jupyter->jupyternotify) (4.7.7)\n",
      "Requirement already satisfied: jupyter-console in c:\\programdata\\anaconda3\\lib\\site-packages (from jupyter->jupyternotify) (6.2.0)\n",
      "Requirement already satisfied: ipywidgets in c:\\programdata\\anaconda3\\lib\\site-packages (from jupyter->jupyternotify) (7.5.1)\n",
      "Requirement already satisfied: notebook in c:\\programdata\\anaconda3\\lib\\site-packages (from jupyter->jupyternotify) (6.1.4)\n",
      "Requirement already satisfied: nbconvert in c:\\programdata\\anaconda3\\lib\\site-packages (from jupyter->jupyternotify) (6.0.7)\n",
      "Requirement already satisfied: ipykernel in c:\\programdata\\anaconda3\\lib\\site-packages (from jupyter->jupyternotify) (5.3.4)\n",
      "Requirement already satisfied: prompt-toolkit!=3.0.0,!=3.0.1,<3.1.0,>=2.0.0 in c:\\programdata\\anaconda3\\lib\\site-packages (from ipython->jupyternotify) (3.0.8)\n",
      "Requirement already satisfied: pickleshare in c:\\programdata\\anaconda3\\lib\\site-packages (from ipython->jupyternotify) (0.7.5)\n",
      "Requirement already satisfied: setuptools>=18.5 in c:\\users\\rishabh.pandey\\appdata\\roaming\\python\\python38\\site-packages (from ipython->jupyternotify) (52.0.0)\n",
      "Requirement already satisfied: decorator in c:\\programdata\\anaconda3\\lib\\site-packages (from ipython->jupyternotify) (4.4.2)\n",
      "Requirement already satisfied: jedi>=0.10 in c:\\programdata\\anaconda3\\lib\\site-packages (from ipython->jupyternotify) (0.17.1)\n",
      "Requirement already satisfied: pygments in c:\\programdata\\anaconda3\\lib\\site-packages (from ipython->jupyternotify) (2.7.2)\n",
      "Requirement already satisfied: backcall in c:\\programdata\\anaconda3\\lib\\site-packages (from ipython->jupyternotify) (0.2.0)\n",
      "Requirement already satisfied: colorama; sys_platform == \"win32\" in c:\\programdata\\anaconda3\\lib\\site-packages (from ipython->jupyternotify) (0.4.4)\n",
      "Requirement already satisfied: traitlets>=4.2 in c:\\programdata\\anaconda3\\lib\\site-packages (from ipython->jupyternotify) (5.0.5)\n",
      "Requirement already satisfied: ipython-genutils in c:\\programdata\\anaconda3\\lib\\site-packages (from qtconsole->jupyter->jupyternotify) (0.2.0)\n",
      "Requirement already satisfied: jupyter-core in c:\\programdata\\anaconda3\\lib\\site-packages (from qtconsole->jupyter->jupyternotify) (4.6.3)\n",
      "Requirement already satisfied: qtpy in c:\\programdata\\anaconda3\\lib\\site-packages (from qtconsole->jupyter->jupyternotify) (1.9.0)\n",
      "Requirement already satisfied: pyzmq>=17.1 in c:\\programdata\\anaconda3\\lib\\site-packages (from qtconsole->jupyter->jupyternotify) (19.0.2)\n",
      "Requirement already satisfied: jupyter-client>=4.1 in c:\\programdata\\anaconda3\\lib\\site-packages (from qtconsole->jupyter->jupyternotify) (6.1.7)\n",
      "Requirement already satisfied: nbformat>=4.2.0 in c:\\programdata\\anaconda3\\lib\\site-packages (from ipywidgets->jupyter->jupyternotify) (5.0.8)\n",
      "Requirement already satisfied: widgetsnbextension~=3.5.0 in c:\\programdata\\anaconda3\\lib\\site-packages (from ipywidgets->jupyter->jupyternotify) (3.5.1)\n",
      "Requirement already satisfied: jinja2 in c:\\programdata\\anaconda3\\lib\\site-packages (from notebook->jupyter->jupyternotify) (2.11.2)\n",
      "Requirement already satisfied: Send2Trash in c:\\programdata\\anaconda3\\lib\\site-packages (from notebook->jupyter->jupyternotify) (1.5.0)\n",
      "Requirement already satisfied: tornado>=5.0 in c:\\programdata\\anaconda3\\lib\\site-packages (from notebook->jupyter->jupyternotify) (6.0.4)\n",
      "Requirement already satisfied: prometheus-client in c:\\programdata\\anaconda3\\lib\\site-packages (from notebook->jupyter->jupyternotify) (0.8.0)\n",
      "Requirement already satisfied: argon2-cffi in c:\\programdata\\anaconda3\\lib\\site-packages (from notebook->jupyter->jupyternotify) (20.1.0)\n",
      "Requirement already satisfied: terminado>=0.8.3 in c:\\programdata\\anaconda3\\lib\\site-packages (from notebook->jupyter->jupyternotify) (0.9.1)\n",
      "Requirement already satisfied: jupyterlab-pygments in c:\\programdata\\anaconda3\\lib\\site-packages (from nbconvert->jupyter->jupyternotify) (0.1.2)\n",
      "Requirement already satisfied: mistune<2,>=0.8.1 in c:\\programdata\\anaconda3\\lib\\site-packages (from nbconvert->jupyter->jupyternotify) (0.8.4)\n",
      "Requirement already satisfied: bleach in c:\\programdata\\anaconda3\\lib\\site-packages (from nbconvert->jupyter->jupyternotify) (3.2.1)\n",
      "Requirement already satisfied: pandocfilters>=1.4.1 in c:\\programdata\\anaconda3\\lib\\site-packages (from nbconvert->jupyter->jupyternotify) (1.4.3)\n",
      "Requirement already satisfied: testpath in c:\\programdata\\anaconda3\\lib\\site-packages (from nbconvert->jupyter->jupyternotify) (0.4.4)\n",
      "Requirement already satisfied: nbclient<0.6.0,>=0.5.0 in c:\\programdata\\anaconda3\\lib\\site-packages (from nbconvert->jupyter->jupyternotify) (0.5.1)\n",
      "Requirement already satisfied: defusedxml in c:\\programdata\\anaconda3\\lib\\site-packages (from nbconvert->jupyter->jupyternotify) (0.6.0)\n",
      "Requirement already satisfied: entrypoints>=0.2.2 in c:\\programdata\\anaconda3\\lib\\site-packages (from nbconvert->jupyter->jupyternotify) (0.3)\n",
      "Requirement already satisfied: wcwidth in c:\\programdata\\anaconda3\\lib\\site-packages (from prompt-toolkit!=3.0.0,!=3.0.1,<3.1.0,>=2.0.0->ipython->jupyternotify) (0.2.5)\n",
      "Requirement already satisfied: parso<0.8.0,>=0.7.0 in c:\\programdata\\anaconda3\\lib\\site-packages (from jedi>=0.10->ipython->jupyternotify) (0.7.0)\n",
      "Requirement already satisfied: pywin32>=1.0; sys_platform == \"win32\" in c:\\programdata\\anaconda3\\lib\\site-packages (from jupyter-core->qtconsole->jupyter->jupyternotify) (227)\n",
      "Requirement already satisfied: python-dateutil>=2.1 in c:\\programdata\\anaconda3\\lib\\site-packages (from jupyter-client>=4.1->qtconsole->jupyter->jupyternotify) (2.8.1)\n",
      "Requirement already satisfied: jsonschema!=2.5.0,>=2.4 in c:\\programdata\\anaconda3\\lib\\site-packages (from nbformat>=4.2.0->ipywidgets->jupyter->jupyternotify) (3.2.0)\n",
      "Requirement already satisfied: MarkupSafe>=0.23 in c:\\programdata\\anaconda3\\lib\\site-packages (from jinja2->notebook->jupyter->jupyternotify) (1.1.1)\n",
      "Requirement already satisfied: cffi>=1.0.0 in c:\\users\\rishabh.pandey\\appdata\\roaming\\python\\python38\\site-packages (from argon2-cffi->notebook->jupyter->jupyternotify) (1.14.4)\n",
      "Requirement already satisfied: six in c:\\users\\rishabh.pandey\\appdata\\roaming\\python\\python38\\site-packages (from argon2-cffi->notebook->jupyter->jupyternotify) (1.15.0)\n",
      "Requirement already satisfied: pywinpty>=0.5 in c:\\programdata\\anaconda3\\lib\\site-packages (from terminado>=0.8.3->notebook->jupyter->jupyternotify) (0.5.7)\n",
      "Requirement already satisfied: packaging in c:\\programdata\\anaconda3\\lib\\site-packages (from bleach->nbconvert->jupyter->jupyternotify) (20.4)\n",
      "Requirement already satisfied: webencodings in c:\\programdata\\anaconda3\\lib\\site-packages (from bleach->nbconvert->jupyter->jupyternotify) (0.5.1)\n",
      "Requirement already satisfied: nest-asyncio in c:\\programdata\\anaconda3\\lib\\site-packages (from nbclient<0.6.0,>=0.5.0->nbconvert->jupyter->jupyternotify) (1.4.2)\n",
      "Requirement already satisfied: async-generator in c:\\programdata\\anaconda3\\lib\\site-packages (from nbclient<0.6.0,>=0.5.0->nbconvert->jupyter->jupyternotify) (1.10)\n",
      "Requirement already satisfied: attrs>=17.4.0 in c:\\programdata\\anaconda3\\lib\\site-packages (from jsonschema!=2.5.0,>=2.4->nbformat>=4.2.0->ipywidgets->jupyter->jupyternotify) (20.3.0)\n",
      "Requirement already satisfied: pyrsistent>=0.14.0 in c:\\programdata\\anaconda3\\lib\\site-packages (from jsonschema!=2.5.0,>=2.4->nbformat>=4.2.0->ipywidgets->jupyter->jupyternotify) (0.17.3)\n",
      "Requirement already satisfied: pycparser in c:\\users\\rishabh.pandey\\appdata\\roaming\\python\\python38\\site-packages (from cffi>=1.0.0->argon2-cffi->notebook->jupyter->jupyternotify) (2.20)\n",
      "Requirement already satisfied: pyparsing>=2.0.2 in c:\\programdata\\anaconda3\\lib\\site-packages (from packaging->bleach->nbconvert->jupyter->jupyternotify) (2.4.7)\n"
     ]
    },
    {
     "data": {
      "application/javascript": [
       "if (!(\"Notification\" in window)) {\n",
       "    alert(\"This browser does not support desktop notifications, so the %%notify magic will not work.\");\n",
       "} else if (Notification.permission !== 'granted' && Notification.permission !== 'denied') {\n",
       "    Notification.requestPermission(function (permission) {\n",
       "        if(!('permission' in Notification)) {\n",
       "            Notification.permission = permission;\n",
       "        }\n",
       "    })\n",
       "}\n"
      ],
      "text/plain": [
       "<IPython.core.display.Javascript object>"
      ]
     },
     "metadata": {},
     "output_type": "display_data"
    },
    {
     "name": "stdout",
     "output_type": "stream",
     "text": [
      "Requirement already satisfied: email-notify-magic in c:\\programdata\\anaconda3\\lib\\site-packages (0.0.2)\n",
      "Requirement already satisfied: ipython in c:\\programdata\\anaconda3\\lib\\site-packages (from email-notify-magic) (7.19.0)\n",
      "Requirement already satisfied: decorator in c:\\programdata\\anaconda3\\lib\\site-packages (from ipython->email-notify-magic) (4.4.2)\n",
      "Requirement already satisfied: prompt-toolkit!=3.0.0,!=3.0.1,<3.1.0,>=2.0.0 in c:\\programdata\\anaconda3\\lib\\site-packages (from ipython->email-notify-magic) (3.0.8)\n",
      "Requirement already satisfied: jedi>=0.10 in c:\\programdata\\anaconda3\\lib\\site-packages (from ipython->email-notify-magic) (0.17.1)\n",
      "Requirement already satisfied: pygments in c:\\programdata\\anaconda3\\lib\\site-packages (from ipython->email-notify-magic) (2.7.2)\n",
      "Requirement already satisfied: colorama; sys_platform == \"win32\" in c:\\programdata\\anaconda3\\lib\\site-packages (from ipython->email-notify-magic) (0.4.4)\n",
      "Requirement already satisfied: pickleshare in c:\\programdata\\anaconda3\\lib\\site-packages (from ipython->email-notify-magic) (0.7.5)\n",
      "Requirement already satisfied: traitlets>=4.2 in c:\\programdata\\anaconda3\\lib\\site-packages (from ipython->email-notify-magic) (5.0.5)\n",
      "Requirement already satisfied: backcall in c:\\programdata\\anaconda3\\lib\\site-packages (from ipython->email-notify-magic) (0.2.0)\n",
      "Requirement already satisfied: setuptools>=18.5 in c:\\users\\rishabh.pandey\\appdata\\roaming\\python\\python38\\site-packages (from ipython->email-notify-magic) (52.0.0)\n",
      "Requirement already satisfied: wcwidth in c:\\programdata\\anaconda3\\lib\\site-packages (from prompt-toolkit!=3.0.0,!=3.0.1,<3.1.0,>=2.0.0->ipython->email-notify-magic) (0.2.5)\n",
      "Requirement already satisfied: parso<0.8.0,>=0.7.0 in c:\\programdata\\anaconda3\\lib\\site-packages (from jedi>=0.10->ipython->email-notify-magic) (0.7.0)\n",
      "Requirement already satisfied: ipython-genutils in c:\\programdata\\anaconda3\\lib\\site-packages (from traitlets>=4.2->ipython->email-notify-magic) (0.2.0)\n"
     ]
    }
   ],
   "source": [
    "import numpy as np\n",
    "import pandas as pd\n",
    "import matplotlib.pyplot as plt\n",
    "import seaborn as sns\n",
    "\n",
    "import itertools\n",
    "import warnings\n",
    "warnings.filterwarnings(\"ignore\")\n",
    "\n",
    "pd.set_option('display.max_columns', None)\n",
    "pd.set_option('display.max_rows', None)\n",
    "\n",
    "class style :\n",
    "   PURPLE = '\\033[95m'\n",
    "   CYAN = '\\033[96m'\n",
    "   DARKCYAN = '\\033[36m'\n",
    "   BLUE = '\\033[94m'\n",
    "   GREEN = '\\033[92m'\n",
    "   YELLOW = '\\033[93m'\n",
    "   RED = '\\033[91m'\n",
    "   BOLD = '\\033[1m'\n",
    "   UNDERLINE = '\\033[4m'\n",
    "   END = '\\033[0m'\n",
    "    \n",
    "from IPython.core.interactiveshell import InteractiveShell\n",
    "InteractiveShell.ast_node_interactivity = \"all\"\n",
    "\n",
    "# check python bit version\n",
    "import platform\n",
    "print(platform.architecture())\n",
    "\n",
    "!pip install jupyternotify\n",
    "import jupyternotify\n",
    "ip = get_ipython()\n",
    "ip.register_magics(jupyternotify.JupyterNotifyMagics)\n",
    "\n",
    "!pip install email-notify-magic\n",
    "%load_ext email_notify_magic"
   ]
  },
  {
   "cell_type": "code",
   "execution_count": 2,
   "metadata": {},
   "outputs": [
    {
     "name": "stdout",
     "output_type": "stream",
     "text": [
      "(50887, 3)\n",
      "Wall time: 30.9 s\n"
     ]
    },
    {
     "data": {
      "application/javascript": [
       "$(document).ready(\n",
       "    function() {\n",
       "        function appendUniqueDiv(){\n",
       "            // append a div with our uuid so we can check that it's already\n",
       "            // been sent and avoid duplicates on page reload\n",
       "            var notifiedDiv = document.createElement(\"div\")\n",
       "            notifiedDiv.id = \"9b1ff8fe-b0eb-4d62-8fa8-f868690e0739\"\n",
       "            element.append(notifiedDiv)\n",
       "        }\n",
       "\n",
       "        // only send notifications if the pageload is complete; this will\n",
       "        // help stop extra notifications when a saved notebook is loaded,\n",
       "        // which during testing gives us state \"interactive\", not \"complete\"\n",
       "        if (document.readyState === 'complete') {\n",
       "            // check for the div that signifies that the notification\n",
       "            // was already sent\n",
       "            if (document.getElementById(\"9b1ff8fe-b0eb-4d62-8fa8-f868690e0739\") === null) {\n",
       "                var notificationPayload = {\"requireInteraction\": false, \"icon\": \"/static/base/images/favicon.ico\", \"body\": \"Cell execution has finished!\"};\n",
       "                if (Notification.permission !== 'denied') {\n",
       "                    if (Notification.permission !== 'granted') { \n",
       "                        Notification.requestPermission(function (permission) {\n",
       "                            if(!('permission' in Notification)) {\n",
       "                                Notification.permission = permission\n",
       "                            }\n",
       "                        })\n",
       "                    }\n",
       "                    if (Notification.permission === 'granted') {\n",
       "                    var notification = new Notification(\"Jupyter Notebook\", notificationPayload)\n",
       "                    appendUniqueDiv()\n",
       "                    notification.onclick = function () {\n",
       "                        window.focus();\n",
       "                        this.close();\n",
       "                        };\n",
       "                    } \n",
       "                }     \n",
       "            }\n",
       "        }\n",
       "    }\n",
       ")\n"
      ],
      "text/plain": [
       "<IPython.core.display.Javascript object>"
      ]
     },
     "metadata": {},
     "output_type": "display_data"
    }
   ],
   "source": [
    "%%notify\n",
    "%%time\n",
    "\n",
    "Review= pd.read_excel(r\"C:\\\\Users\\\\rishabh.pandey\\\\Downloads\\\\Tasks\\\\Task11_Products(5Apr)\\Products.xlsx\", sheet_name=3, header=0)\n",
    "Review= Review[['ProductID', 'ReviewText', 'ReviewStar']]\n",
    "# Review['ReviewText']=Review['ReviewText'].apply(str).apply(lambda x: clean(x))\n",
    "# Review.to_csv(r\"C:\\\\Users\\\\rishabh.pandey\\\\Downloads\\\\Tasks\\\\Task11_Products(5Apr)\\Review.csv\")\n",
    "print(Review.shape)"
   ]
  },
  {
   "cell_type": "markdown",
   "metadata": {},
   "source": [
    "## Cleaing: Code"
   ]
  },
  {
   "cell_type": "code",
   "execution_count": 3,
   "metadata": {},
   "outputs": [
    {
     "name": "stdout",
     "output_type": "stream",
     "text": [
      "Wall time: 1.44 s\n"
     ]
    },
    {
     "data": {
      "application/javascript": [
       "$(document).ready(\n",
       "    function() {\n",
       "        function appendUniqueDiv(){\n",
       "            // append a div with our uuid so we can check that it's already\n",
       "            // been sent and avoid duplicates on page reload\n",
       "            var notifiedDiv = document.createElement(\"div\")\n",
       "            notifiedDiv.id = \"ab5f77ae-b9d7-4fad-a899-de19791d0148\"\n",
       "            element.append(notifiedDiv)\n",
       "        }\n",
       "\n",
       "        // only send notifications if the pageload is complete; this will\n",
       "        // help stop extra notifications when a saved notebook is loaded,\n",
       "        // which during testing gives us state \"interactive\", not \"complete\"\n",
       "        if (document.readyState === 'complete') {\n",
       "            // check for the div that signifies that the notification\n",
       "            // was already sent\n",
       "            if (document.getElementById(\"ab5f77ae-b9d7-4fad-a899-de19791d0148\") === null) {\n",
       "                var notificationPayload = {\"requireInteraction\": false, \"icon\": \"/static/base/images/favicon.ico\", \"body\": \"Cell execution has finished!\"};\n",
       "                if (Notification.permission !== 'denied') {\n",
       "                    if (Notification.permission !== 'granted') { \n",
       "                        Notification.requestPermission(function (permission) {\n",
       "                            if(!('permission' in Notification)) {\n",
       "                                Notification.permission = permission\n",
       "                            }\n",
       "                        })\n",
       "                    }\n",
       "                    if (Notification.permission === 'granted') {\n",
       "                    var notification = new Notification(\"Jupyter Notebook\", notificationPayload)\n",
       "                    appendUniqueDiv()\n",
       "                    notification.onclick = function () {\n",
       "                        window.focus();\n",
       "                        this.close();\n",
       "                        };\n",
       "                    } \n",
       "                }     \n",
       "            }\n",
       "        }\n",
       "    }\n",
       ")\n"
      ],
      "text/plain": [
       "<IPython.core.display.Javascript object>"
      ]
     },
     "metadata": {},
     "output_type": "display_data"
    }
   ],
   "source": [
    "%%notify\n",
    "%%time\n",
    "\n",
    "from nltk.corpus import wordnet\n",
    "from nltk import word_tokenize\n",
    "\n",
    "def clean(text):\n",
    "    \n",
    "    text_token = word_tokenize(text)\n",
    "    text_token2 = [x.lower() for x in text_token]\n",
    "    \n",
    "    # Mapping Social-media shortcuts\n",
    "    shortcuts = {'u': 'you','lol': 'laughing out loud', 'k': 'okay', 'm': 'am', 'b4': 'before',\n",
    "                'wlcm': 'welcome', 'bc': 'because', '<3': 'love', 'xoxo': 'love','gr8': 'great', 'bday': 'birthday',\n",
    "                 'awsm': 'awesome', 'gud': 'good', 'h8': 'hate','irl': 'in real life', 'yolo': 'you only live once','btw': 'by the way'}\n",
    "    nsw=pd.Series(text_token)\n",
    "    words=nsw.map(shortcuts).fillna(nsw)\n",
    "    \n",
    "    #Get an integrated list of listed_words (words like yolo must be combined, You Only Live Once :)\n",
    "    words= [word.split(' ') for word in words]    \n",
    "    import itertools\n",
    "    words= list(itertools.chain.from_iterable(words))\n",
    "    \n",
    "    # lemmatize the words with appropriate POS Tag\n",
    "    def pos_tag(word):  \n",
    "        tag= nltk.pos_tag([word])[0][1][0].upper()\n",
    "        dic= {\"J\": wordnet.ADJ,\"N\": wordnet.NOUN,\"V\": wordnet.VERB,\"R\": wordnet.ADV}\n",
    "        return dic.get(tag, wordnet.NOUN)\n",
    "    words = [WordNetLemmatizer().lemmatize(word, pos=pos_tag(word)) for word in words] \n",
    "    words2=[word for word in words if nltk.pos_tag([word])[0][1] not in ['VB','VBG','VBD','VBN','VBP','VBZ','CC','MD','IN']]\n",
    "    \n",
    "    '''# perform stemming for non lemmatized words (like 'cleaning')\n",
    "    from nltk.stem.snowball import SnowballStemmer\n",
    "    \n",
    "    englishStemmer=SnowballStemmer(\"english\")\n",
    "    words=[englishStemmer.stem(word) for  word in words]'''\n",
    "    \n",
    "    '''words=[word.encode('utf-8') for word in words]\n",
    "    words=[hnspl.suggest(word)[0] if hnspl.spell(word)==False else word for word in words]'''\n",
    "    \n",
    "    clean_text=\" \".join(words2)\n",
    "    return clean_text"
   ]
  },
  {
   "cell_type": "code",
   "execution_count": 15,
   "metadata": {
    "collapsed": true
   },
   "outputs": [
    {
     "name": "stderr",
     "output_type": "stream",
     "text": [
      "2021-04-19 19:14:35 INFO: Loading these models for language: en (English):\n",
      "=========================\n",
      "| Processor | Package   |\n",
      "-------------------------\n",
      "| tokenize  | combined  |\n",
      "| pos       | combined  |\n",
      "| lemma     | combined  |\n",
      "| depparse  | combined  |\n",
      "| sentiment | sstplus   |\n",
      "| ner       | ontonotes |\n",
      "=========================\n",
      "\n",
      "2021-04-19 19:14:35 INFO: Use device: cpu\n",
      "2021-04-19 19:14:35 INFO: Loading: tokenize\n",
      "2021-04-19 19:14:35 INFO: Loading: pos\n",
      "2021-04-19 19:14:36 INFO: Loading: lemma\n",
      "2021-04-19 19:14:36 INFO: Loading: depparse\n",
      "2021-04-19 19:14:37 INFO: Loading: sentiment\n",
      "2021-04-19 19:14:38 INFO: Loading: ner\n",
      "2021-04-19 19:14:39 INFO: Done loading processors!\n"
     ]
    }
   ],
   "source": [
    "#!pip install stanza --user\n",
    "import stanza\n",
    "# stanza.download('en') # download English model"
   ]
  },
  {
   "cell_type": "markdown",
   "metadata": {},
   "source": [
    "## Stanford&Stanza: ABSA"
   ]
  },
  {
   "cell_type": "code",
   "execution_count": null,
   "metadata": {},
   "outputs": [],
   "source": [
    "import nltk\n",
    "from nltk.corpus import stopwords\n",
    "from nltk.corpus import wordnet\n",
    "from nltk.tokenize import word_tokenize, sent_tokenize \n",
    "\n",
    "nltk.download('stopwords')\n",
    "# nltk.download('punkt')\n",
    "# nltk.download('averaged_perceptron_tagger')\n",
    "stop_words = set(stopwords.words('english'))\n",
    "\n",
    "nlp = stanza.Pipeline('en') # initialize English neural pipeline"
   ]
  },
  {
   "cell_type": "code",
   "execution_count": 31,
   "metadata": {},
   "outputs": [],
   "source": [
    "def ABSA(txt):\n",
    "    \n",
    "    txt = txt.lower() # LowerCasing the given Text\n",
    "    sentList = nltk.sent_tokenize(txt) # Splitting the text into sentences\n",
    "\n",
    "    fcluster = []\n",
    "    totalfeatureList = []\n",
    "    finalcluster = []\n",
    "    dic = {}\n",
    "\n",
    "    for line in sentList:\n",
    "        newtaggedList = []\n",
    "        txt_list = nltk.word_tokenize(line) # Splitting up into words\n",
    "        taggedList = nltk.pos_tag(txt_list) # Doing Part-of-Speech Tagging to each word\n",
    "\n",
    "        newwordList = []\n",
    "        flag = 0\n",
    "        for i in range(0,len(taggedList)-1):\n",
    "            if(taggedList[i][1]==\"NN\" and taggedList[i+1][1]==\"NN\"): # If two consecutive words are Nouns then they are joined together\n",
    "                newwordList.append(taggedList[i][0]+taggedList[i+1][0])\n",
    "                flag=1\n",
    "            else:\n",
    "                if(flag==1):\n",
    "                    flag=0\n",
    "                    continue\n",
    "                newwordList.append(taggedList[i][0])\n",
    "                if(i==len(taggedList)-2):\n",
    "                    newwordList.append(taggedList[i+1][0])\n",
    "\n",
    "        finaltxt = ' '.join(word for word in newwordList) \n",
    "        new_txt_list = nltk.word_tokenize(finaltxt)\n",
    "        #wordsList = [w for w in new_txt_list if not w in stop_words]\n",
    "        taggedList = nltk.pos_tag(new_txt_list)\n",
    "\n",
    "        doc = nlp(finaltxt) # Object of Stanza NLP Pipeleine\n",
    "        \n",
    "        # Getting the dependency relations betwwen the words\n",
    "        dep_node = []\n",
    "        for dep_edge in doc.sentences[0].dependencies:\n",
    "            dep_node.append([dep_edge[2].text, dep_edge[0].id, dep_edge[1]])\n",
    "\n",
    "        # Coverting it into appropriate format\n",
    "        for i in range(0, len(dep_node)):\n",
    "            if (int(dep_node[i][1]) != 0):\n",
    "                dep_node[i][1] = newwordList[(int(dep_node[i][1]) - 1)]\n",
    "\n",
    "        featureList = []\n",
    "        categories = []\n",
    "        for i in taggedList:\n",
    "            if(i[1]=='JJ' or i[1]=='NN' or i[1]=='JJR' or i[1]=='NNS' or i[1]=='RB'):\n",
    "                featureList.append(list(i)) # For features for each sentence\n",
    "                totalfeatureList.append(list(i)) # Stores the features of all the sentences in the text\n",
    "                categories.append(i[0])\n",
    "\n",
    "        for i in featureList:\n",
    "            filist = []\n",
    "            for j in dep_node:\n",
    "                if((j[0]==i[0] or j[1]==i[0]) and (j[2] in [\"nsubj\", \"acl:relcl\", \"obj\", \"dobj\", \"agent\", \"advmod\", \"amod\", \"neg\", \"prep_of\", \"acomp\", \"xcomp\", \"compound\"])):\n",
    "                    if(j[0]==i[0]):\n",
    "                        filist.append(j[1])\n",
    "                    else:\n",
    "                        filist.append(j[0])\n",
    "            fcluster.append([i[0], filist])\n",
    "            \n",
    "    for i in totalfeatureList:\n",
    "        dic[i[0]] = i[1]\n",
    "    \n",
    "    for i in fcluster:\n",
    "        if(dic[i[0]]==\"NN\"):\n",
    "            finalcluster.append(i)\n",
    "        \n",
    "    return(finalcluster)"
   ]
  },
  {
   "cell_type": "markdown",
   "metadata": {},
   "source": [
    "## Test "
   ]
  },
  {
   "cell_type": "code",
   "execution_count": 33,
   "metadata": {},
   "outputs": [
    {
     "data": {
      "text/plain": [
       "[['soundquality', ['great']],\n",
       " ['battery', ['bad']],\n",
       " ['camera', ['pathetic']],\n",
       " ['screen', ['terrible']]]"
      ]
     },
     "execution_count": 33,
     "metadata": {},
     "output_type": "execute_result"
    }
   ],
   "source": [
    "txt = \"The Sound Quality is great but the battery is bad. Also, the Camera is pathetic and screen is very terrible!\"\n",
    "ABSA(txt)"
   ]
  },
  {
   "cell_type": "code",
   "execution_count": null,
   "metadata": {},
   "outputs": [],
   "source": []
  },
  {
   "cell_type": "code",
   "execution_count": null,
   "metadata": {},
   "outputs": [],
   "source": []
  }
 ],
 "metadata": {
  "kernelspec": {
   "display_name": "Python 3",
   "language": "python",
   "name": "python3"
  },
  "language_info": {
   "codemirror_mode": {
    "name": "ipython",
    "version": 3
   },
   "file_extension": ".py",
   "mimetype": "text/x-python",
   "name": "python",
   "nbconvert_exporter": "python",
   "pygments_lexer": "ipython3",
   "version": "3.8.5"
  }
 },
 "nbformat": 4,
 "nbformat_minor": 4
}
